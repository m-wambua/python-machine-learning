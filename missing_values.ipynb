{
 "cells": [
  {
   "cell_type": "code",
   "execution_count": 2,
   "metadata": {},
   "outputs": [
    {
     "data": {
      "text/plain": [
       "'\\nBuilding Good training sets- Data preprocessing.\\nThe quality of the data and the amount of useful information that it contains are key factors that determine how well\\na machine learning algorithm can learn.Therefore, it is absolutely critical that we make sure to examine and preprocess a dateset\\nbefore we feed it to a learning algorithm.\\n\\nWe will disucc the following:\\n    => Removing and imputing missing values from the dataset.\\n    => Getting categorical data into shape for machine learning algorithms\\n    => Selecting relevant features for the model construction.\\n\\n'"
      ]
     },
     "execution_count": 2,
     "metadata": {},
     "output_type": "execute_result"
    }
   ],
   "source": [
    "'''\n",
    "Building Good training sets- Data preprocessing.\n",
    "The quality of the data and the amount of useful information that it contains are key factors that determine how well\n",
    "a machine learning algorithm can learn.Therefore, it is absolutely critical that we make sure to examine and preprocess a dateset\n",
    "before we feed it to a learning algorithm.\n",
    "\n",
    "We will disucc the following:\n",
    "    => Removing and imputing missing values from the dataset.\n",
    "    => Getting categorical data into shape for machine learning algorithms\n",
    "    => Selecting relevant features for the model construction.\n",
    "\n",
    "'''"
   ]
  },
  {
   "cell_type": "code",
   "execution_count": 3,
   "metadata": {},
   "outputs": [
    {
     "data": {
      "text/plain": [
       "'\\nDealing with missing data\\n\\nIt is not uncommon in real-world application for our samples to be missing one or more values for various reason. There \\ncould have been an error in the data collection process, certain measurements are not applicable, or particular fields could have\\nbeen simply left blank in  survey, for example. We typically see missing values as the blank spaces in our data table\\nor as placeholders strings such as NaN, which stands for not a number or Null.\\n'"
      ]
     },
     "execution_count": 3,
     "metadata": {},
     "output_type": "execute_result"
    }
   ],
   "source": [
    "'''\n",
    "Dealing with missing data\n",
    "\n",
    "It is not uncommon in real-world application for our samples to be missing one or more values for various reason. There \n",
    "could have been an error in the data collection process, certain measurements are not applicable, or particular fields could have\n",
    "been simply left blank in  survey, for example. We typically see missing values as the blank spaces in our data table\n",
    "or as placeholders strings such as NaN, which stands for not a number or Null.\n",
    "'''"
   ]
  },
  {
   "cell_type": "code",
   "execution_count": 4,
   "metadata": {},
   "outputs": [
    {
     "data": {
      "text/plain": [
       "'\\nIdentifyinh missing values in tabular data\\n'"
      ]
     },
     "execution_count": 4,
     "metadata": {},
     "output_type": "execute_result"
    }
   ],
   "source": [
    "'''\n",
    "Identifyinh missing values in tabular data\n",
    "'''\n",
    "# Imports\n",
    "#! pipenv install pandas"
   ]
  },
  {
   "cell_type": "code",
   "execution_count": 5,
   "metadata": {},
   "outputs": [
    {
     "data": {
      "text/html": [
       "<div>\n",
       "<style scoped>\n",
       "    .dataframe tbody tr th:only-of-type {\n",
       "        vertical-align: middle;\n",
       "    }\n",
       "\n",
       "    .dataframe tbody tr th {\n",
       "        vertical-align: top;\n",
       "    }\n",
       "\n",
       "    .dataframe thead th {\n",
       "        text-align: right;\n",
       "    }\n",
       "</style>\n",
       "<table border=\"1\" class=\"dataframe\">\n",
       "  <thead>\n",
       "    <tr style=\"text-align: right;\">\n",
       "      <th></th>\n",
       "      <th>A</th>\n",
       "      <th>B</th>\n",
       "      <th>C</th>\n",
       "      <th>D</th>\n",
       "    </tr>\n",
       "  </thead>\n",
       "  <tbody>\n",
       "    <tr>\n",
       "      <th>0</th>\n",
       "      <td>1.0</td>\n",
       "      <td>2.0</td>\n",
       "      <td>3.0</td>\n",
       "      <td>4.0</td>\n",
       "    </tr>\n",
       "    <tr>\n",
       "      <th>1</th>\n",
       "      <td>5.0</td>\n",
       "      <td>6.0</td>\n",
       "      <td>NaN</td>\n",
       "      <td>8.0</td>\n",
       "    </tr>\n",
       "    <tr>\n",
       "      <th>2</th>\n",
       "      <td>10.0</td>\n",
       "      <td>11.0</td>\n",
       "      <td>12.0</td>\n",
       "      <td>NaN</td>\n",
       "    </tr>\n",
       "  </tbody>\n",
       "</table>\n",
       "</div>"
      ],
      "text/plain": [
       "       A     B     C    D\n",
       "0    1.0   2.0   3.0  4.0\n",
       "1    5.0   6.0   NaN  8.0\n",
       "2   10.0  11.0  12.0  NaN"
      ]
     },
     "execution_count": 5,
     "metadata": {},
     "output_type": "execute_result"
    }
   ],
   "source": [
    "\n",
    "import pandas as pd\n",
    "from io import StringIO\n",
    "csv_data=\\\n",
    "    '''\n",
    "    A,B,C,D\n",
    "    1.0,2.0,3.0,4.0\n",
    "    5.0,6.0,,8.0\n",
    "    10.0,11.0,12.0,\n",
    "    '''\n",
    "df=pd.read_csv(StringIO(csv_data))\n",
    "\n",
    "'''\n",
    "Using the preceding code, we read CSV-formatted data into a pandas DataFrame via the read_csv function and noticed\n",
    "that the two missing cells were replaced by NaN. The StringIO function in the preceding code example was simply\n",
    "used for the purpose of illustration. It allows us to read the string assigned to csv_data into a pandas DataFrame\n",
    "as if it was regular CSv file in our hard drive.\n",
    "\n",
    "For a larger DataFrame, it can be tedious to look for missing values manually; in this case we can use the isnull method\n",
    "to return a DataFrame with Boolean values that indicate whether a cell contains a numeric value (False) or if data is\n",
    "missing (True)\n",
    "'''\n",
    "df"
   ]
  },
  {
   "cell_type": "code",
   "execution_count": 6,
   "metadata": {},
   "outputs": [
    {
     "data": {
      "text/plain": [
       "    A    0\n",
       "B        0\n",
       "C        1\n",
       "D        1\n",
       "dtype: int64"
      ]
     },
     "execution_count": 6,
     "metadata": {},
     "output_type": "execute_result"
    }
   ],
   "source": [
    "#Using the sum method, we cna then return the number of missing values per column as follows:\n",
    "df.isnull().sum()"
   ]
  },
  {
   "cell_type": "code",
   "execution_count": 7,
   "metadata": {},
   "outputs": [
    {
     "data": {
      "text/html": [
       "<div>\n",
       "<style scoped>\n",
       "    .dataframe tbody tr th:only-of-type {\n",
       "        vertical-align: middle;\n",
       "    }\n",
       "\n",
       "    .dataframe tbody tr th {\n",
       "        vertical-align: top;\n",
       "    }\n",
       "\n",
       "    .dataframe thead th {\n",
       "        text-align: right;\n",
       "    }\n",
       "</style>\n",
       "<table border=\"1\" class=\"dataframe\">\n",
       "  <thead>\n",
       "    <tr style=\"text-align: right;\">\n",
       "      <th></th>\n",
       "      <th>A</th>\n",
       "      <th>B</th>\n",
       "      <th>C</th>\n",
       "      <th>D</th>\n",
       "    </tr>\n",
       "  </thead>\n",
       "  <tbody>\n",
       "    <tr>\n",
       "      <th>0</th>\n",
       "      <td>1.0</td>\n",
       "      <td>2.0</td>\n",
       "      <td>3.0</td>\n",
       "      <td>4.0</td>\n",
       "    </tr>\n",
       "  </tbody>\n",
       "</table>\n",
       "</div>"
      ],
      "text/plain": [
       "       A    B    C    D\n",
       "0    1.0  2.0  3.0  4.0"
      ]
     },
     "execution_count": 7,
     "metadata": {},
     "output_type": "execute_result"
    }
   ],
   "source": [
    "#================\n",
    "# dropping rows with missing rows\n",
    "df.dropna(axis=0)\n",
    "#======================="
   ]
  },
  {
   "cell_type": "code",
   "execution_count": 8,
   "metadata": {},
   "outputs": [
    {
     "data": {
      "text/plain": [
       "\"\\nAlthough scikit-learn was developed for working with NumPy arrays, it can sometimes be more convinient to preprocess data using\\npandas' DataFrame. We can always access the underlying NumPy array of a DataFrame via the values attribute before we feed it \\ninto scikit-learn estimator.\\n\""
      ]
     },
     "execution_count": 8,
     "metadata": {},
     "output_type": "execute_result"
    }
   ],
   "source": [
    "'''\n",
    "Although scikit-learn was developed for working with NumPy arrays, it can sometimes be more convinient to preprocess data using\n",
    "pandas' DataFrame. We can always access the underlying NumPy array of a DataFrame via the values attribute before we feed it \n",
    "into scikit-learn estimator.\n",
    "'''"
   ]
  },
  {
   "cell_type": "code",
   "execution_count": 9,
   "metadata": {},
   "outputs": [
    {
     "data": {
      "text/html": [
       "<div>\n",
       "<style scoped>\n",
       "    .dataframe tbody tr th:only-of-type {\n",
       "        vertical-align: middle;\n",
       "    }\n",
       "\n",
       "    .dataframe tbody tr th {\n",
       "        vertical-align: top;\n",
       "    }\n",
       "\n",
       "    .dataframe thead th {\n",
       "        text-align: right;\n",
       "    }\n",
       "</style>\n",
       "<table border=\"1\" class=\"dataframe\">\n",
       "  <thead>\n",
       "    <tr style=\"text-align: right;\">\n",
       "      <th></th>\n",
       "      <th>A</th>\n",
       "      <th>B</th>\n",
       "      <th>C</th>\n",
       "      <th>D</th>\n",
       "    </tr>\n",
       "  </thead>\n",
       "  <tbody>\n",
       "    <tr>\n",
       "      <th>0</th>\n",
       "      <td>1.0</td>\n",
       "      <td>2.0</td>\n",
       "      <td>3.0</td>\n",
       "      <td>4.0</td>\n",
       "    </tr>\n",
       "  </tbody>\n",
       "</table>\n",
       "</div>"
      ],
      "text/plain": [
       "       A    B    C    D\n",
       "0    1.0  2.0  3.0  4.0"
      ]
     },
     "execution_count": 9,
     "metadata": {},
     "output_type": "execute_result"
    }
   ],
   "source": [
    "'''\n",
    "Eliminating samples or features with missing values\n",
    "\n",
    "One of the easiest ways to deal with missing data is to simply remove the corresponding features(columns) or samples(rows)\n",
    "from the dataset entirely: rows with misssing values can be easily dropped via the dropna method:\n",
    "\n",
    "\n",
    "'''\n",
    "\n",
    "df.dropna(axis=0)"
   ]
  },
  {
   "cell_type": "code",
   "execution_count": 10,
   "metadata": {},
   "outputs": [
    {
     "data": {
      "text/html": [
       "<div>\n",
       "<style scoped>\n",
       "    .dataframe tbody tr th:only-of-type {\n",
       "        vertical-align: middle;\n",
       "    }\n",
       "\n",
       "    .dataframe tbody tr th {\n",
       "        vertical-align: top;\n",
       "    }\n",
       "\n",
       "    .dataframe thead th {\n",
       "        text-align: right;\n",
       "    }\n",
       "</style>\n",
       "<table border=\"1\" class=\"dataframe\">\n",
       "  <thead>\n",
       "    <tr style=\"text-align: right;\">\n",
       "      <th></th>\n",
       "      <th>A</th>\n",
       "      <th>B</th>\n",
       "    </tr>\n",
       "  </thead>\n",
       "  <tbody>\n",
       "    <tr>\n",
       "      <th>0</th>\n",
       "      <td>1.0</td>\n",
       "      <td>2.0</td>\n",
       "    </tr>\n",
       "    <tr>\n",
       "      <th>1</th>\n",
       "      <td>5.0</td>\n",
       "      <td>6.0</td>\n",
       "    </tr>\n",
       "    <tr>\n",
       "      <th>2</th>\n",
       "      <td>10.0</td>\n",
       "      <td>11.0</td>\n",
       "    </tr>\n",
       "  </tbody>\n",
       "</table>\n",
       "</div>"
      ],
      "text/plain": [
       "       A     B\n",
       "0    1.0   2.0\n",
       "1    5.0   6.0\n",
       "2   10.0  11.0"
      ]
     },
     "execution_count": 10,
     "metadata": {},
     "output_type": "execute_result"
    }
   ],
   "source": [
    "'''Similarly, we can drop columns that have at least one NaN in any row by setting the axis argument to 1:'''\n",
    "\n",
    "df.dropna(axis=1)"
   ]
  },
  {
   "cell_type": "code",
   "execution_count": 11,
   "metadata": {},
   "outputs": [
    {
     "data": {
      "text/html": [
       "<div>\n",
       "<style scoped>\n",
       "    .dataframe tbody tr th:only-of-type {\n",
       "        vertical-align: middle;\n",
       "    }\n",
       "\n",
       "    .dataframe tbody tr th {\n",
       "        vertical-align: top;\n",
       "    }\n",
       "\n",
       "    .dataframe thead th {\n",
       "        text-align: right;\n",
       "    }\n",
       "</style>\n",
       "<table border=\"1\" class=\"dataframe\">\n",
       "  <thead>\n",
       "    <tr style=\"text-align: right;\">\n",
       "      <th></th>\n",
       "      <th>A</th>\n",
       "      <th>B</th>\n",
       "      <th>C</th>\n",
       "      <th>D</th>\n",
       "    </tr>\n",
       "  </thead>\n",
       "  <tbody>\n",
       "    <tr>\n",
       "      <th>0</th>\n",
       "      <td>1.0</td>\n",
       "      <td>2.0</td>\n",
       "      <td>3.0</td>\n",
       "      <td>4.0</td>\n",
       "    </tr>\n",
       "    <tr>\n",
       "      <th>1</th>\n",
       "      <td>5.0</td>\n",
       "      <td>6.0</td>\n",
       "      <td>NaN</td>\n",
       "      <td>8.0</td>\n",
       "    </tr>\n",
       "    <tr>\n",
       "      <th>2</th>\n",
       "      <td>10.0</td>\n",
       "      <td>11.0</td>\n",
       "      <td>12.0</td>\n",
       "      <td>NaN</td>\n",
       "    </tr>\n",
       "  </tbody>\n",
       "</table>\n",
       "</div>"
      ],
      "text/plain": [
       "       A     B     C    D\n",
       "0    1.0   2.0   3.0  4.0\n",
       "1    5.0   6.0   NaN  8.0\n",
       "2   10.0  11.0  12.0  NaN"
      ]
     },
     "execution_count": 11,
     "metadata": {},
     "output_type": "execute_result"
    }
   ],
   "source": [
    "'''The dropna method supports several additional parameters that can come in handy:\n",
    "only drop rows where all columns are NaN\n",
    "(returns the whole array here since we dont have a row with where all values are NaN)'''\n",
    "\n",
    "df.dropna(how='all')"
   ]
  },
  {
   "cell_type": "code",
   "execution_count": 12,
   "metadata": {},
   "outputs": [
    {
     "data": {
      "text/html": [
       "<div>\n",
       "<style scoped>\n",
       "    .dataframe tbody tr th:only-of-type {\n",
       "        vertical-align: middle;\n",
       "    }\n",
       "\n",
       "    .dataframe tbody tr th {\n",
       "        vertical-align: top;\n",
       "    }\n",
       "\n",
       "    .dataframe thead th {\n",
       "        text-align: right;\n",
       "    }\n",
       "</style>\n",
       "<table border=\"1\" class=\"dataframe\">\n",
       "  <thead>\n",
       "    <tr style=\"text-align: right;\">\n",
       "      <th></th>\n",
       "      <th>A</th>\n",
       "      <th>B</th>\n",
       "      <th>C</th>\n",
       "      <th>D</th>\n",
       "    </tr>\n",
       "  </thead>\n",
       "  <tbody>\n",
       "    <tr>\n",
       "      <th>0</th>\n",
       "      <td>1.0</td>\n",
       "      <td>2.0</td>\n",
       "      <td>3.0</td>\n",
       "      <td>4.0</td>\n",
       "    </tr>\n",
       "  </tbody>\n",
       "</table>\n",
       "</div>"
      ],
      "text/plain": [
       "       A    B    C    D\n",
       "0    1.0  2.0  3.0  4.0"
      ]
     },
     "execution_count": 12,
     "metadata": {},
     "output_type": "execute_result"
    }
   ],
   "source": [
    "'''Drop rows that have less than 4 real values'''\n",
    "df.dropna(thresh=4)"
   ]
  },
  {
   "cell_type": "code",
   "execution_count": 13,
   "metadata": {},
   "outputs": [
    {
     "data": {
      "text/html": [
       "<div>\n",
       "<style scoped>\n",
       "    .dataframe tbody tr th:only-of-type {\n",
       "        vertical-align: middle;\n",
       "    }\n",
       "\n",
       "    .dataframe tbody tr th {\n",
       "        vertical-align: top;\n",
       "    }\n",
       "\n",
       "    .dataframe thead th {\n",
       "        text-align: right;\n",
       "    }\n",
       "</style>\n",
       "<table border=\"1\" class=\"dataframe\">\n",
       "  <thead>\n",
       "    <tr style=\"text-align: right;\">\n",
       "      <th></th>\n",
       "      <th>A</th>\n",
       "      <th>B</th>\n",
       "      <th>C</th>\n",
       "      <th>D</th>\n",
       "    </tr>\n",
       "  </thead>\n",
       "  <tbody>\n",
       "    <tr>\n",
       "      <th>0</th>\n",
       "      <td>1.0</td>\n",
       "      <td>2.0</td>\n",
       "      <td>3.0</td>\n",
       "      <td>4.0</td>\n",
       "    </tr>\n",
       "    <tr>\n",
       "      <th>2</th>\n",
       "      <td>10.0</td>\n",
       "      <td>11.0</td>\n",
       "      <td>12.0</td>\n",
       "      <td>NaN</td>\n",
       "    </tr>\n",
       "  </tbody>\n",
       "</table>\n",
       "</div>"
      ],
      "text/plain": [
       "       A     B     C    D\n",
       "0    1.0   2.0   3.0  4.0\n",
       "2   10.0  11.0  12.0  NaN"
      ]
     },
     "execution_count": 13,
     "metadata": {},
     "output_type": "execute_result"
    }
   ],
   "source": [
    "'''Only Drop rows where NaN appears in specific columns (here:'C')'''\n",
    "df.dropna(subset=['C'])\n"
   ]
  },
  {
   "cell_type": "code",
   "execution_count": 14,
   "metadata": {},
   "outputs": [
    {
     "data": {
      "text/plain": [
       "'Although the removal of missing data seems to be convinient approach, it also comes with certain disadvanatges;\\nfor example , we may end up removing too many samples, which will make a reliable analysis impossible.Or, if we remove\\ntoo many feature columns, we will run the risk of losing valuable information that our classifiers needs to discriminate\\nbetween classes'"
      ]
     },
     "execution_count": 14,
     "metadata": {},
     "output_type": "execute_result"
    }
   ],
   "source": [
    "'''Although the removal of missing data seems to be convinient approach, it also comes with certain disadvanatges;\n",
    "for example , we may end up removing too many samples, which will make a reliable analysis impossible.Or, if we remove\n",
    "too many feature columns, we will run the risk of losing valuable information that our classifiers needs to discriminate\n",
    "between classes'''"
   ]
  },
  {
   "cell_type": "code",
   "execution_count": 15,
   "metadata": {},
   "outputs": [
    {
     "data": {
      "text/plain": [
       "'Often, the removal of samples or dropping of entire feature columns is simply not feasible, because we might\\nlose too much valuable data.In this case, we can use different interpolation techniques to estimate the missing values\\nfrom the other training samples in our dataset. One of the most common interpolation techniques is mean imputation, where\\n we simply replace the missing value with  the mean value of the entire feature column. A convinient was to achieve this is\\n by using the Imputer class from scikit-learn'"
      ]
     },
     "execution_count": 15,
     "metadata": {},
     "output_type": "execute_result"
    }
   ],
   "source": [
    "'''Imputing missing values'''\n",
    "\n",
    "'''Often, the removal of samples or dropping of entire feature columns is simply not feasible, because we might\n",
    "lose too much valuable data.In this case, we can use different interpolation techniques to estimate the missing values\n",
    "from the other training samples in our dataset. One of the most common interpolation techniques is mean imputation, where\n",
    " we simply replace the missing value with  the mean value of the entire feature column. A convinient was to achieve this is\n",
    " by using the Imputer class from scikit-learn'''\n",
    "\n",
    "#! pipenv install scikit-learn\n"
   ]
  },
  {
   "cell_type": "code",
   "execution_count": 16,
   "metadata": {},
   "outputs": [
    {
     "data": {
      "text/plain": [
       "array([[ 1. ,  2. ,  3. ,  4. ],\n",
       "       [ 5. ,  6. ,  7.5,  8. ],\n",
       "       [10. , 11. , 12. ,  6. ]])"
      ]
     },
     "execution_count": 16,
     "metadata": {},
     "output_type": "execute_result"
    }
   ],
   "source": [
    "\n",
    "from sklearn.impute import SimpleImputer\n",
    "# The above needed to change from (from sklearn.preprocessing import Imputer ) to the above\n",
    "import numpy as np\n",
    "imr=SimpleImputer(missing_values=np.nan,strategy='mean')\n",
    "# The missing values needed to change from (missing_value='NaN') to (missing_values=np.nan)\n",
    "imr=imr.fit(df.values)\n",
    "imputed_data=imr.transform(df.values)\n",
    "imputed_data"
   ]
  },
  {
   "cell_type": "code",
   "execution_count": 17,
   "metadata": {},
   "outputs": [],
   "source": [
    "#! pipenv install numpy"
   ]
  },
  {
   "cell_type": "code",
   "execution_count": 18,
   "metadata": {},
   "outputs": [
    {
     "data": {
      "text/plain": [
       "'Here we have replaced each NaN value with the corresponding mean, which is seperatley calculated for each column.\\nOther options for the strategy parameter are median or most_frequent'"
      ]
     },
     "execution_count": 18,
     "metadata": {},
     "output_type": "execute_result"
    }
   ],
   "source": [
    "'''Here we have replaced each NaN value with the corresponding mean, which is seperatley calculated for each column.\n",
    "Other options for the strategy parameter are median or most_frequent'''"
   ]
  },
  {
   "cell_type": "code",
   "execution_count": 19,
   "metadata": {},
   "outputs": [
    {
     "data": {
      "text/plain": [
       "'The Imputer class belongs to the so called transformer classes in scikit-learn, which are used for data transformation\\nThe two essential methods for those estimators are fit and transform. The fit method is used to learn the parameters from\\nthe training data, and the transform method uses those parameters to trasnform the data. Any data array that is to be\\ntransformed needs to have the same number of features as the data array that was used to fit the model.\\nThe classifiers that we used in the previous chapters belong to the so called estimators in scikit learn with an API that\\nis conceptually very similar to the transformer class.Estimators have a predict method but can also have a tranform method.\\nAs you may recall, we also used the fit method to learn the parameters of a model when we trained those estimators for classification\\nHowever, in supervised learning tasks, we additionally provide the class labels for fitting the model, which cna then be used\\nto make predictions about new data samples via the predict method'"
      ]
     },
     "execution_count": 19,
     "metadata": {},
     "output_type": "execute_result"
    }
   ],
   "source": [
    "'''Understanding the scikit-learn estimator API'''\n",
    "\n",
    "'''The Imputer class belongs to the so called transformer classes in scikit-learn, which are used for data transformation\n",
    "The two essential methods for those estimators are fit and transform. The fit method is used to learn the parameters from\n",
    "the training data, and the transform method uses those parameters to trasnform the data. Any data array that is to be\n",
    "transformed needs to have the same number of features as the data array that was used to fit the model.\n",
    "The classifiers that we used in the previous chapters belong to the so called estimators in scikit learn with an API that\n",
    "is conceptually very similar to the transformer class.Estimators have a predict method but can also have a tranform method.\n",
    "As you may recall, we also used the fit method to learn the parameters of a model when we trained those estimators for classification\n",
    "However, in supervised learning tasks, we additionally provide the class labels for fitting the model, which cna then be used\n",
    "to make predictions about new data samples via the predict method'''"
   ]
  },
  {
   "cell_type": "code",
   "execution_count": 20,
   "metadata": {},
   "outputs": [
    {
     "data": {
      "text/plain": [
       "\"\\nNorminal and ordinal features\\n\\nOrdinal features can be understood as categorical values that can be sorted or ordered. In contrast nominal features\\ndon't imply any order for example in a tshirt the sizes can be ordinal and colour nominal\\n\""
      ]
     },
     "execution_count": 20,
     "metadata": {},
     "output_type": "execute_result"
    }
   ],
   "source": [
    "'''Handling Categorical Data'''\n",
    "\n",
    "'''\n",
    "Norminal and ordinal features\n",
    "\n",
    "Ordinal features can be understood as categorical values that can be sorted or ordered. In contrast nominal features\n",
    "don't imply any order for example in a tshirt the sizes can be ordinal and colour nominal\n",
    "'''\n"
   ]
  },
  {
   "cell_type": "code",
   "execution_count": 21,
   "metadata": {},
   "outputs": [
    {
     "data": {
      "text/html": [
       "<div>\n",
       "<style scoped>\n",
       "    .dataframe tbody tr th:only-of-type {\n",
       "        vertical-align: middle;\n",
       "    }\n",
       "\n",
       "    .dataframe tbody tr th {\n",
       "        vertical-align: top;\n",
       "    }\n",
       "\n",
       "    .dataframe thead th {\n",
       "        text-align: right;\n",
       "    }\n",
       "</style>\n",
       "<table border=\"1\" class=\"dataframe\">\n",
       "  <thead>\n",
       "    <tr style=\"text-align: right;\">\n",
       "      <th></th>\n",
       "      <th>color</th>\n",
       "      <th>size</th>\n",
       "      <th>price</th>\n",
       "      <th>classlabel</th>\n",
       "    </tr>\n",
       "  </thead>\n",
       "  <tbody>\n",
       "    <tr>\n",
       "      <th>0</th>\n",
       "      <td>green</td>\n",
       "      <td>M</td>\n",
       "      <td>10.1</td>\n",
       "      <td>class1</td>\n",
       "    </tr>\n",
       "    <tr>\n",
       "      <th>1</th>\n",
       "      <td>red</td>\n",
       "      <td>L</td>\n",
       "      <td>13.5</td>\n",
       "      <td>class2</td>\n",
       "    </tr>\n",
       "    <tr>\n",
       "      <th>2</th>\n",
       "      <td>blue</td>\n",
       "      <td>XL</td>\n",
       "      <td>15.3</td>\n",
       "      <td>class1</td>\n",
       "    </tr>\n",
       "  </tbody>\n",
       "</table>\n",
       "</div>"
      ],
      "text/plain": [
       "   color size  price classlabel\n",
       "0  green    M   10.1     class1\n",
       "1    red    L   13.5     class2\n",
       "2   blue   XL   15.3     class1"
      ]
     },
     "execution_count": 21,
     "metadata": {},
     "output_type": "execute_result"
    }
   ],
   "source": [
    "'''Creating an example dataset'''\n",
    "import pandas as pd\n",
    "df_shirt=pd.DataFrame([\n",
    "    ['green','M',10.1,'class1'],\n",
    "    ['red','L',13.5,'class2'],\n",
    "    ['blue','XL',15.3,'class1']\n",
    "])\n",
    "\n",
    "df_shirt.columns=['color','size','price','classlabel']\n",
    "df_shirt"
   ]
  },
  {
   "cell_type": "code",
   "execution_count": 22,
   "metadata": {},
   "outputs": [
    {
     "data": {
      "text/plain": [
       "'\\nMapping ordinal features\\nTo make sure that the learning algorithm interprets the ordinal features correctly, we need to convert the categorical string\\nvalues into integers.Unfortunately, there is no convinient function that can automatically derive the correct order of the labels\\nfor our size feature,so we have to define the mapping manually\\n'"
      ]
     },
     "execution_count": 22,
     "metadata": {},
     "output_type": "execute_result"
    }
   ],
   "source": [
    "'''\n",
    "Mapping ordinal features\n",
    "To make sure that the learning algorithm interprets the ordinal features correctly, we need to convert the categorical string\n",
    "values into integers.Unfortunately, there is no convinient function that can automatically derive the correct order of the labels\n",
    "for our size feature,so we have to define the mapping manually\n",
    "'''"
   ]
  },
  {
   "cell_type": "code",
   "execution_count": 23,
   "metadata": {},
   "outputs": [
    {
     "data": {
      "text/html": [
       "<div>\n",
       "<style scoped>\n",
       "    .dataframe tbody tr th:only-of-type {\n",
       "        vertical-align: middle;\n",
       "    }\n",
       "\n",
       "    .dataframe tbody tr th {\n",
       "        vertical-align: top;\n",
       "    }\n",
       "\n",
       "    .dataframe thead th {\n",
       "        text-align: right;\n",
       "    }\n",
       "</style>\n",
       "<table border=\"1\" class=\"dataframe\">\n",
       "  <thead>\n",
       "    <tr style=\"text-align: right;\">\n",
       "      <th></th>\n",
       "      <th>color</th>\n",
       "      <th>size</th>\n",
       "      <th>price</th>\n",
       "      <th>classlabel</th>\n",
       "    </tr>\n",
       "  </thead>\n",
       "  <tbody>\n",
       "    <tr>\n",
       "      <th>0</th>\n",
       "      <td>green</td>\n",
       "      <td>1</td>\n",
       "      <td>10.1</td>\n",
       "      <td>class1</td>\n",
       "    </tr>\n",
       "    <tr>\n",
       "      <th>1</th>\n",
       "      <td>red</td>\n",
       "      <td>2</td>\n",
       "      <td>13.5</td>\n",
       "      <td>class2</td>\n",
       "    </tr>\n",
       "    <tr>\n",
       "      <th>2</th>\n",
       "      <td>blue</td>\n",
       "      <td>3</td>\n",
       "      <td>15.3</td>\n",
       "      <td>class1</td>\n",
       "    </tr>\n",
       "  </tbody>\n",
       "</table>\n",
       "</div>"
      ],
      "text/plain": [
       "   color  size  price classlabel\n",
       "0  green     1   10.1     class1\n",
       "1    red     2   13.5     class2\n",
       "2   blue     3   15.3     class1"
      ]
     },
     "execution_count": 23,
     "metadata": {},
     "output_type": "execute_result"
    }
   ],
   "source": [
    "size_mapping={\n",
    "    'XL':3,\n",
    "    'L':2,\n",
    "    'M':1\n",
    "}\n",
    "\n",
    "df_shirt['size']=df_shirt['size'].map(size_mapping)\n",
    "\n",
    "df_shirt"
   ]
  },
  {
   "cell_type": "code",
   "execution_count": 24,
   "metadata": {},
   "outputs": [
    {
     "data": {
      "text/plain": [
       "0     M\n",
       "1     L\n",
       "2    XL\n",
       "Name: size, dtype: object"
      ]
     },
     "execution_count": 24,
     "metadata": {},
     "output_type": "execute_result"
    }
   ],
   "source": [
    "'''If we want to transform the integer values back to the original string representation at a later stage, we can\n",
    "simply define a reverse-mapping dictionary inv_size_mapping={v:k for k, v in size_mapping.items()} that can then be used\n",
    "via the pandas map method on the transformed feature column,similar to the size_mapping dictionary that we used\n",
    "previously'''\n",
    "\n",
    "inv_size_mapping={v:k for k ,v in size_mapping.items()}\n",
    "df_shirt['size'].map(inv_size_mapping)"
   ]
  },
  {
   "cell_type": "code",
   "execution_count": 25,
   "metadata": {},
   "outputs": [
    {
     "data": {
      "text/plain": [
       "{'class1': 0, 'class2': 1}"
      ]
     },
     "execution_count": 25,
     "metadata": {},
     "output_type": "execute_result"
    }
   ],
   "source": [
    "'''Encoding class labels'''\n",
    "\n",
    "'''\n",
    "Many machine learning libraries require that class labels are encoded as integer values. Although most estimators for classification\n",
    "in scikit-learn convert class labels to integers internally, it is considered good practice to provide class labels as integer\n",
    "arrays to avoid technical glitches. To encode the class labels, we can use an approach similar to the mapping of ordinal features\n",
    "discussed previously. We need to remember that class labels are not ordinal, and it doesn't matter which integer number we\n",
    "asign to a particular string label. Thus we can enumerate the class label.\n",
    "\n",
    "'''\n",
    "\n",
    "import numpy as np\n",
    "\n",
    "class_mapping={label:idx for idx, label in enumerate(np.unique(df_shirt['classlabel']))}\n",
    "\n",
    "class_mapping"
   ]
  },
  {
   "cell_type": "code",
   "execution_count": 26,
   "metadata": {},
   "outputs": [
    {
     "data": {
      "text/html": [
       "<div>\n",
       "<style scoped>\n",
       "    .dataframe tbody tr th:only-of-type {\n",
       "        vertical-align: middle;\n",
       "    }\n",
       "\n",
       "    .dataframe tbody tr th {\n",
       "        vertical-align: top;\n",
       "    }\n",
       "\n",
       "    .dataframe thead th {\n",
       "        text-align: right;\n",
       "    }\n",
       "</style>\n",
       "<table border=\"1\" class=\"dataframe\">\n",
       "  <thead>\n",
       "    <tr style=\"text-align: right;\">\n",
       "      <th></th>\n",
       "      <th>color</th>\n",
       "      <th>size</th>\n",
       "      <th>price</th>\n",
       "      <th>classlabel</th>\n",
       "    </tr>\n",
       "  </thead>\n",
       "  <tbody>\n",
       "    <tr>\n",
       "      <th>0</th>\n",
       "      <td>green</td>\n",
       "      <td>1</td>\n",
       "      <td>10.1</td>\n",
       "      <td>0</td>\n",
       "    </tr>\n",
       "    <tr>\n",
       "      <th>1</th>\n",
       "      <td>red</td>\n",
       "      <td>2</td>\n",
       "      <td>13.5</td>\n",
       "      <td>1</td>\n",
       "    </tr>\n",
       "    <tr>\n",
       "      <th>2</th>\n",
       "      <td>blue</td>\n",
       "      <td>3</td>\n",
       "      <td>15.3</td>\n",
       "      <td>0</td>\n",
       "    </tr>\n",
       "  </tbody>\n",
       "</table>\n",
       "</div>"
      ],
      "text/plain": [
       "   color  size  price  classlabel\n",
       "0  green     1   10.1           0\n",
       "1    red     2   13.5           1\n",
       "2   blue     3   15.3           0"
      ]
     },
     "execution_count": 26,
     "metadata": {},
     "output_type": "execute_result"
    }
   ],
   "source": [
    "'''Next , We can use the mapping dictionary to transform the class labels into integers:'''\n",
    "df_shirt['classlabel']=df_shirt['classlabel'].map(class_mapping)\n",
    "df_shirt\n"
   ]
  },
  {
   "cell_type": "code",
   "execution_count": 27,
   "metadata": {},
   "outputs": [
    {
     "data": {
      "text/html": [
       "<div>\n",
       "<style scoped>\n",
       "    .dataframe tbody tr th:only-of-type {\n",
       "        vertical-align: middle;\n",
       "    }\n",
       "\n",
       "    .dataframe tbody tr th {\n",
       "        vertical-align: top;\n",
       "    }\n",
       "\n",
       "    .dataframe thead th {\n",
       "        text-align: right;\n",
       "    }\n",
       "</style>\n",
       "<table border=\"1\" class=\"dataframe\">\n",
       "  <thead>\n",
       "    <tr style=\"text-align: right;\">\n",
       "      <th></th>\n",
       "      <th>color</th>\n",
       "      <th>size</th>\n",
       "      <th>price</th>\n",
       "      <th>classlabel</th>\n",
       "    </tr>\n",
       "  </thead>\n",
       "  <tbody>\n",
       "    <tr>\n",
       "      <th>0</th>\n",
       "      <td>green</td>\n",
       "      <td>1</td>\n",
       "      <td>10.1</td>\n",
       "      <td>class1</td>\n",
       "    </tr>\n",
       "    <tr>\n",
       "      <th>1</th>\n",
       "      <td>red</td>\n",
       "      <td>2</td>\n",
       "      <td>13.5</td>\n",
       "      <td>class2</td>\n",
       "    </tr>\n",
       "    <tr>\n",
       "      <th>2</th>\n",
       "      <td>blue</td>\n",
       "      <td>3</td>\n",
       "      <td>15.3</td>\n",
       "      <td>class1</td>\n",
       "    </tr>\n",
       "  </tbody>\n",
       "</table>\n",
       "</div>"
      ],
      "text/plain": [
       "   color  size  price classlabel\n",
       "0  green     1   10.1     class1\n",
       "1    red     2   13.5     class2\n",
       "2   blue     3   15.3     class1"
      ]
     },
     "execution_count": 27,
     "metadata": {},
     "output_type": "execute_result"
    }
   ],
   "source": [
    "'''We can reverse the key valuep pairs in the mapping dictionary as follows to map the converted class labels back to\n",
    "the original string representation:'''\n",
    "\n",
    "inv_class_mapping={v:k for k, v in class_mapping.items()}\n",
    "df_shirt['classlabel']=df_shirt['classlabel'].map(inv_class_mapping)\n",
    "df_shirt"
   ]
  },
  {
   "cell_type": "code",
   "execution_count": 28,
   "metadata": {},
   "outputs": [
    {
     "data": {
      "text/plain": [
       "array([0, 1, 0])"
      ]
     },
     "execution_count": 28,
     "metadata": {},
     "output_type": "execute_result"
    }
   ],
   "source": [
    "'''Alternatively, there is a convenient LabelEncoder class directly implemented in scikit-learn '''\n",
    "from sklearn.preprocessing import LabelEncoder\n",
    "class_le=LabelEncoder()\n",
    "y=class_le.fit_transform(df_shirt['classlabel'].values)\n",
    "y"
   ]
  },
  {
   "cell_type": "code",
   "execution_count": 29,
   "metadata": {},
   "outputs": [
    {
     "data": {
      "text/plain": [
       "array(['class1', 'class2', 'class1'], dtype=object)"
      ]
     },
     "execution_count": 29,
     "metadata": {},
     "output_type": "execute_result"
    }
   ],
   "source": [
    "'''Note that the fit_transform method is just a shortcut for calling fit and transform seperately, and we can use the\n",
    "inverse_transform method to transform the integer class label back into their original string representation:'''\n",
    "\n",
    "class_le.inverse_transform(y)"
   ]
  },
  {
   "cell_type": "code",
   "execution_count": 30,
   "metadata": {},
   "outputs": [
    {
     "data": {
      "text/html": [
       "<div>\n",
       "<style scoped>\n",
       "    .dataframe tbody tr th:only-of-type {\n",
       "        vertical-align: middle;\n",
       "    }\n",
       "\n",
       "    .dataframe tbody tr th {\n",
       "        vertical-align: top;\n",
       "    }\n",
       "\n",
       "    .dataframe thead th {\n",
       "        text-align: right;\n",
       "    }\n",
       "</style>\n",
       "<table border=\"1\" class=\"dataframe\">\n",
       "  <thead>\n",
       "    <tr style=\"text-align: right;\">\n",
       "      <th></th>\n",
       "      <th>A</th>\n",
       "      <th>B</th>\n",
       "      <th>C</th>\n",
       "      <th>D</th>\n",
       "    </tr>\n",
       "  </thead>\n",
       "  <tbody>\n",
       "    <tr>\n",
       "      <th>0</th>\n",
       "      <td>1.0</td>\n",
       "      <td>2.0</td>\n",
       "      <td>3.0</td>\n",
       "      <td>4.0</td>\n",
       "    </tr>\n",
       "    <tr>\n",
       "      <th>1</th>\n",
       "      <td>5.0</td>\n",
       "      <td>6.0</td>\n",
       "      <td>NaN</td>\n",
       "      <td>8.0</td>\n",
       "    </tr>\n",
       "    <tr>\n",
       "      <th>2</th>\n",
       "      <td>10.0</td>\n",
       "      <td>11.0</td>\n",
       "      <td>12.0</td>\n",
       "      <td>NaN</td>\n",
       "    </tr>\n",
       "  </tbody>\n",
       "</table>\n",
       "</div>"
      ],
      "text/plain": [
       "       A     B     C    D\n",
       "0    1.0   2.0   3.0  4.0\n",
       "1    5.0   6.0   NaN  8.0\n",
       "2   10.0  11.0  12.0  NaN"
      ]
     },
     "execution_count": 30,
     "metadata": {},
     "output_type": "execute_result"
    }
   ],
   "source": [
    "df"
   ]
  },
  {
   "cell_type": "code",
   "execution_count": 31,
   "metadata": {},
   "outputs": [
    {
     "data": {
      "text/plain": [
       "'\\nAfter executing the precedding code, the first column of the NumPy array X now holds the new color values, which are \\nencoded as follows:\\nblue=0\\ngreen=1\\nred=2\\n\\n'"
      ]
     },
     "execution_count": 31,
     "metadata": {},
     "output_type": "execute_result"
    }
   ],
   "source": [
    "'''Performing one-hot Encoding on nominal features'''\n",
    "\n",
    "'''\n",
    "Since scikit-learn estimators for classification treat class labels as categorical data that does not imply any order\n",
    "(nominal), we used the convenient LabelEncoder to encode the string lables into integers. It may appear\n",
    "that we could use a similar approach  to transform the nominal color of our dataset,as follows:\n",
    "'''\n",
    "\n",
    "X=df_shirt[['color','size','price']].values\n",
    "color_le=LabelEncoder()\n",
    "\n",
    "X[:,0]=color_le.fit_transform(X[:,0])\n",
    "X\n",
    "\n",
    "'''\n",
    "After executing the precedding code, the first column of the NumPy array X now holds the new color values, which are \n",
    "encoded as follows:\n",
    "blue=0\n",
    "green=1\n",
    "red=2\n",
    "\n",
    "'''"
   ]
  },
  {
   "cell_type": "code",
   "execution_count": 32,
   "metadata": {},
   "outputs": [
    {
     "data": {
      "text/plain": [
       "array([[1, 1, 10.1],\n",
       "       [2, 2, 13.5],\n",
       "       [0, 3, 15.3]], dtype=object)"
      ]
     },
     "execution_count": 32,
     "metadata": {},
     "output_type": "execute_result"
    }
   ],
   "source": [
    "X"
   ]
  },
  {
   "cell_type": "code",
   "execution_count": 33,
   "metadata": {},
   "outputs": [
    {
     "data": {
      "text/plain": [
       "array([[0., 1., 0., 1., 0., 0., 1., 0., 0.],\n",
       "       [0., 0., 1., 0., 1., 0., 0., 1., 0.],\n",
       "       [1., 0., 0., 0., 0., 1., 0., 0., 1.]])"
      ]
     },
     "execution_count": 33,
     "metadata": {},
     "output_type": "execute_result"
    }
   ],
   "source": [
    "'''If we stop at this point and feed the array to our classifier, we will make one of the most common mistakes\n",
    "in dealing with categorical data.Although the color values don't come in any particular order, a learning algorithm\n",
    " will now assume that green is larger than blue, and red is larger than green. Although this assumption is incorrect,\n",
    " the algorithm could still produce useful results. However, those results would not be optimal.\n",
    " A common workaround for this problem is to use a technique called one-hot encoding.The idea behind this approach is to create\n",
    " a new dummy feature for each unique value in the nominal feature column. Here, we would convert the color feature into \n",
    " three new features: blue, green, and red. Binary values can then be used to indicate the particular color of a sample.'''\n",
    "\n",
    "from sklearn.preprocessing import OneHotEncoder\n",
    "ohe=OneHotEncoder()\n",
    "ohe.fit_transform(X).toarray()"
   ]
  },
  {
   "cell_type": "code",
   "execution_count": 34,
   "metadata": {},
   "outputs": [
    {
     "data": {
      "text/plain": [
       "array([[1, 1, 10.1],\n",
       "       [2, 2, 13.5],\n",
       "       [0, 3, 15.3]], dtype=object)"
      ]
     },
     "execution_count": 34,
     "metadata": {},
     "output_type": "execute_result"
    }
   ],
   "source": [
    "X"
   ]
  },
  {
   "cell_type": "code",
   "execution_count": 35,
   "metadata": {},
   "outputs": [
    {
     "data": {
      "text/plain": [
       "'Skipping one hot encoding for now'"
      ]
     },
     "execution_count": 35,
     "metadata": {},
     "output_type": "execute_result"
    }
   ],
   "source": [
    "'''Skipping one hot encoding for now'''\n"
   ]
  },
  {
   "cell_type": "code",
   "execution_count": 36,
   "metadata": {},
   "outputs": [],
   "source": [
    "'''Partitioning a dataset into seperate training and test sets'''\n",
    "\n",
    "'''\n",
    "The samples belong to one of three different classes, 1,2,3 which refer to the three different types of grapes grown \n",
    "in the same region in italy but derived from different wine culitvars.\n",
    "\n",
    "A convinient way to randomly partition this dataset into seperate test and training datasets is to use the train_test_split\n",
    "function from scikit-learn's model_selection submodule\n",
    "'''\n",
    "\n",
    "df_wine=pd.read_csv('wine.data',header=None)"
   ]
  },
  {
   "cell_type": "code",
   "execution_count": 37,
   "metadata": {},
   "outputs": [
    {
     "data": {
      "text/html": [
       "<div>\n",
       "<style scoped>\n",
       "    .dataframe tbody tr th:only-of-type {\n",
       "        vertical-align: middle;\n",
       "    }\n",
       "\n",
       "    .dataframe tbody tr th {\n",
       "        vertical-align: top;\n",
       "    }\n",
       "\n",
       "    .dataframe thead th {\n",
       "        text-align: right;\n",
       "    }\n",
       "</style>\n",
       "<table border=\"1\" class=\"dataframe\">\n",
       "  <thead>\n",
       "    <tr style=\"text-align: right;\">\n",
       "      <th></th>\n",
       "      <th>0</th>\n",
       "      <th>1</th>\n",
       "      <th>2</th>\n",
       "      <th>3</th>\n",
       "      <th>4</th>\n",
       "      <th>5</th>\n",
       "      <th>6</th>\n",
       "      <th>7</th>\n",
       "      <th>8</th>\n",
       "      <th>9</th>\n",
       "      <th>10</th>\n",
       "      <th>11</th>\n",
       "      <th>12</th>\n",
       "      <th>13</th>\n",
       "    </tr>\n",
       "  </thead>\n",
       "  <tbody>\n",
       "    <tr>\n",
       "      <th>0</th>\n",
       "      <td>1</td>\n",
       "      <td>14.23</td>\n",
       "      <td>1.71</td>\n",
       "      <td>2.43</td>\n",
       "      <td>15.6</td>\n",
       "      <td>127</td>\n",
       "      <td>2.80</td>\n",
       "      <td>3.06</td>\n",
       "      <td>0.28</td>\n",
       "      <td>2.29</td>\n",
       "      <td>5.64</td>\n",
       "      <td>1.04</td>\n",
       "      <td>3.92</td>\n",
       "      <td>1065</td>\n",
       "    </tr>\n",
       "    <tr>\n",
       "      <th>1</th>\n",
       "      <td>1</td>\n",
       "      <td>13.20</td>\n",
       "      <td>1.78</td>\n",
       "      <td>2.14</td>\n",
       "      <td>11.2</td>\n",
       "      <td>100</td>\n",
       "      <td>2.65</td>\n",
       "      <td>2.76</td>\n",
       "      <td>0.26</td>\n",
       "      <td>1.28</td>\n",
       "      <td>4.38</td>\n",
       "      <td>1.05</td>\n",
       "      <td>3.40</td>\n",
       "      <td>1050</td>\n",
       "    </tr>\n",
       "    <tr>\n",
       "      <th>2</th>\n",
       "      <td>1</td>\n",
       "      <td>13.16</td>\n",
       "      <td>2.36</td>\n",
       "      <td>2.67</td>\n",
       "      <td>18.6</td>\n",
       "      <td>101</td>\n",
       "      <td>2.80</td>\n",
       "      <td>3.24</td>\n",
       "      <td>0.30</td>\n",
       "      <td>2.81</td>\n",
       "      <td>5.68</td>\n",
       "      <td>1.03</td>\n",
       "      <td>3.17</td>\n",
       "      <td>1185</td>\n",
       "    </tr>\n",
       "    <tr>\n",
       "      <th>3</th>\n",
       "      <td>1</td>\n",
       "      <td>14.37</td>\n",
       "      <td>1.95</td>\n",
       "      <td>2.50</td>\n",
       "      <td>16.8</td>\n",
       "      <td>113</td>\n",
       "      <td>3.85</td>\n",
       "      <td>3.49</td>\n",
       "      <td>0.24</td>\n",
       "      <td>2.18</td>\n",
       "      <td>7.80</td>\n",
       "      <td>0.86</td>\n",
       "      <td>3.45</td>\n",
       "      <td>1480</td>\n",
       "    </tr>\n",
       "    <tr>\n",
       "      <th>4</th>\n",
       "      <td>1</td>\n",
       "      <td>13.24</td>\n",
       "      <td>2.59</td>\n",
       "      <td>2.87</td>\n",
       "      <td>21.0</td>\n",
       "      <td>118</td>\n",
       "      <td>2.80</td>\n",
       "      <td>2.69</td>\n",
       "      <td>0.39</td>\n",
       "      <td>1.82</td>\n",
       "      <td>4.32</td>\n",
       "      <td>1.04</td>\n",
       "      <td>2.93</td>\n",
       "      <td>735</td>\n",
       "    </tr>\n",
       "    <tr>\n",
       "      <th>...</th>\n",
       "      <td>...</td>\n",
       "      <td>...</td>\n",
       "      <td>...</td>\n",
       "      <td>...</td>\n",
       "      <td>...</td>\n",
       "      <td>...</td>\n",
       "      <td>...</td>\n",
       "      <td>...</td>\n",
       "      <td>...</td>\n",
       "      <td>...</td>\n",
       "      <td>...</td>\n",
       "      <td>...</td>\n",
       "      <td>...</td>\n",
       "      <td>...</td>\n",
       "    </tr>\n",
       "    <tr>\n",
       "      <th>173</th>\n",
       "      <td>3</td>\n",
       "      <td>13.71</td>\n",
       "      <td>5.65</td>\n",
       "      <td>2.45</td>\n",
       "      <td>20.5</td>\n",
       "      <td>95</td>\n",
       "      <td>1.68</td>\n",
       "      <td>0.61</td>\n",
       "      <td>0.52</td>\n",
       "      <td>1.06</td>\n",
       "      <td>7.70</td>\n",
       "      <td>0.64</td>\n",
       "      <td>1.74</td>\n",
       "      <td>740</td>\n",
       "    </tr>\n",
       "    <tr>\n",
       "      <th>174</th>\n",
       "      <td>3</td>\n",
       "      <td>13.40</td>\n",
       "      <td>3.91</td>\n",
       "      <td>2.48</td>\n",
       "      <td>23.0</td>\n",
       "      <td>102</td>\n",
       "      <td>1.80</td>\n",
       "      <td>0.75</td>\n",
       "      <td>0.43</td>\n",
       "      <td>1.41</td>\n",
       "      <td>7.30</td>\n",
       "      <td>0.70</td>\n",
       "      <td>1.56</td>\n",
       "      <td>750</td>\n",
       "    </tr>\n",
       "    <tr>\n",
       "      <th>175</th>\n",
       "      <td>3</td>\n",
       "      <td>13.27</td>\n",
       "      <td>4.28</td>\n",
       "      <td>2.26</td>\n",
       "      <td>20.0</td>\n",
       "      <td>120</td>\n",
       "      <td>1.59</td>\n",
       "      <td>0.69</td>\n",
       "      <td>0.43</td>\n",
       "      <td>1.35</td>\n",
       "      <td>10.20</td>\n",
       "      <td>0.59</td>\n",
       "      <td>1.56</td>\n",
       "      <td>835</td>\n",
       "    </tr>\n",
       "    <tr>\n",
       "      <th>176</th>\n",
       "      <td>3</td>\n",
       "      <td>13.17</td>\n",
       "      <td>2.59</td>\n",
       "      <td>2.37</td>\n",
       "      <td>20.0</td>\n",
       "      <td>120</td>\n",
       "      <td>1.65</td>\n",
       "      <td>0.68</td>\n",
       "      <td>0.53</td>\n",
       "      <td>1.46</td>\n",
       "      <td>9.30</td>\n",
       "      <td>0.60</td>\n",
       "      <td>1.62</td>\n",
       "      <td>840</td>\n",
       "    </tr>\n",
       "    <tr>\n",
       "      <th>177</th>\n",
       "      <td>3</td>\n",
       "      <td>14.13</td>\n",
       "      <td>4.10</td>\n",
       "      <td>2.74</td>\n",
       "      <td>24.5</td>\n",
       "      <td>96</td>\n",
       "      <td>2.05</td>\n",
       "      <td>0.76</td>\n",
       "      <td>0.56</td>\n",
       "      <td>1.35</td>\n",
       "      <td>9.20</td>\n",
       "      <td>0.61</td>\n",
       "      <td>1.60</td>\n",
       "      <td>560</td>\n",
       "    </tr>\n",
       "  </tbody>\n",
       "</table>\n",
       "<p>178 rows × 14 columns</p>\n",
       "</div>"
      ],
      "text/plain": [
       "     0      1     2     3     4    5     6     7     8     9      10    11   \n",
       "0     1  14.23  1.71  2.43  15.6  127  2.80  3.06  0.28  2.29   5.64  1.04  \\\n",
       "1     1  13.20  1.78  2.14  11.2  100  2.65  2.76  0.26  1.28   4.38  1.05   \n",
       "2     1  13.16  2.36  2.67  18.6  101  2.80  3.24  0.30  2.81   5.68  1.03   \n",
       "3     1  14.37  1.95  2.50  16.8  113  3.85  3.49  0.24  2.18   7.80  0.86   \n",
       "4     1  13.24  2.59  2.87  21.0  118  2.80  2.69  0.39  1.82   4.32  1.04   \n",
       "..   ..    ...   ...   ...   ...  ...   ...   ...   ...   ...    ...   ...   \n",
       "173   3  13.71  5.65  2.45  20.5   95  1.68  0.61  0.52  1.06   7.70  0.64   \n",
       "174   3  13.40  3.91  2.48  23.0  102  1.80  0.75  0.43  1.41   7.30  0.70   \n",
       "175   3  13.27  4.28  2.26  20.0  120  1.59  0.69  0.43  1.35  10.20  0.59   \n",
       "176   3  13.17  2.59  2.37  20.0  120  1.65  0.68  0.53  1.46   9.30  0.60   \n",
       "177   3  14.13  4.10  2.74  24.5   96  2.05  0.76  0.56  1.35   9.20  0.61   \n",
       "\n",
       "       12    13  \n",
       "0    3.92  1065  \n",
       "1    3.40  1050  \n",
       "2    3.17  1185  \n",
       "3    3.45  1480  \n",
       "4    2.93   735  \n",
       "..    ...   ...  \n",
       "173  1.74   740  \n",
       "174  1.56   750  \n",
       "175  1.56   835  \n",
       "176  1.62   840  \n",
       "177  1.60   560  \n",
       "\n",
       "[178 rows x 14 columns]"
      ]
     },
     "execution_count": 37,
     "metadata": {},
     "output_type": "execute_result"
    }
   ],
   "source": [
    "df_wine"
   ]
  },
  {
   "cell_type": "code",
   "execution_count": 38,
   "metadata": {},
   "outputs": [
    {
     "name": "stdout",
     "output_type": "stream",
     "text": [
      "Class labels [1 2 3]\n"
     ]
    }
   ],
   "source": [
    "df_wine.columns=['Class label','Alcohol',\n",
    "                 'Malic acid','Ash',\n",
    "                 'Alcalinity of ash','Magnesium',\n",
    "                 'Total phenols','Flavanoids',\n",
    "                 'Nonflavanoids phenols',\n",
    "                 'Proanthocyanins','Color intensity',\n",
    "                 'Hue','OD280/OD315 od diluted wines',\n",
    "                 'Proline'\n",
    "                 ]\n",
    "print('Class labels',np.unique(df_wine['Class label']))"
   ]
  },
  {
   "cell_type": "code",
   "execution_count": 39,
   "metadata": {},
   "outputs": [
    {
     "data": {
      "text/html": [
       "<div>\n",
       "<style scoped>\n",
       "    .dataframe tbody tr th:only-of-type {\n",
       "        vertical-align: middle;\n",
       "    }\n",
       "\n",
       "    .dataframe tbody tr th {\n",
       "        vertical-align: top;\n",
       "    }\n",
       "\n",
       "    .dataframe thead th {\n",
       "        text-align: right;\n",
       "    }\n",
       "</style>\n",
       "<table border=\"1\" class=\"dataframe\">\n",
       "  <thead>\n",
       "    <tr style=\"text-align: right;\">\n",
       "      <th></th>\n",
       "      <th>Class label</th>\n",
       "      <th>Alcohol</th>\n",
       "      <th>Malic acid</th>\n",
       "      <th>Ash</th>\n",
       "      <th>Alcalinity of ash</th>\n",
       "      <th>Magnesium</th>\n",
       "      <th>Total phenols</th>\n",
       "      <th>Flavanoids</th>\n",
       "      <th>Nonflavanoids phenols</th>\n",
       "      <th>Proanthocyanins</th>\n",
       "      <th>Color intensity</th>\n",
       "      <th>Hue</th>\n",
       "      <th>OD280/OD315 od diluted wines</th>\n",
       "      <th>Proline</th>\n",
       "    </tr>\n",
       "  </thead>\n",
       "  <tbody>\n",
       "    <tr>\n",
       "      <th>0</th>\n",
       "      <td>1</td>\n",
       "      <td>14.23</td>\n",
       "      <td>1.71</td>\n",
       "      <td>2.43</td>\n",
       "      <td>15.6</td>\n",
       "      <td>127</td>\n",
       "      <td>2.80</td>\n",
       "      <td>3.06</td>\n",
       "      <td>0.28</td>\n",
       "      <td>2.29</td>\n",
       "      <td>5.64</td>\n",
       "      <td>1.04</td>\n",
       "      <td>3.92</td>\n",
       "      <td>1065</td>\n",
       "    </tr>\n",
       "    <tr>\n",
       "      <th>1</th>\n",
       "      <td>1</td>\n",
       "      <td>13.20</td>\n",
       "      <td>1.78</td>\n",
       "      <td>2.14</td>\n",
       "      <td>11.2</td>\n",
       "      <td>100</td>\n",
       "      <td>2.65</td>\n",
       "      <td>2.76</td>\n",
       "      <td>0.26</td>\n",
       "      <td>1.28</td>\n",
       "      <td>4.38</td>\n",
       "      <td>1.05</td>\n",
       "      <td>3.40</td>\n",
       "      <td>1050</td>\n",
       "    </tr>\n",
       "    <tr>\n",
       "      <th>2</th>\n",
       "      <td>1</td>\n",
       "      <td>13.16</td>\n",
       "      <td>2.36</td>\n",
       "      <td>2.67</td>\n",
       "      <td>18.6</td>\n",
       "      <td>101</td>\n",
       "      <td>2.80</td>\n",
       "      <td>3.24</td>\n",
       "      <td>0.30</td>\n",
       "      <td>2.81</td>\n",
       "      <td>5.68</td>\n",
       "      <td>1.03</td>\n",
       "      <td>3.17</td>\n",
       "      <td>1185</td>\n",
       "    </tr>\n",
       "    <tr>\n",
       "      <th>3</th>\n",
       "      <td>1</td>\n",
       "      <td>14.37</td>\n",
       "      <td>1.95</td>\n",
       "      <td>2.50</td>\n",
       "      <td>16.8</td>\n",
       "      <td>113</td>\n",
       "      <td>3.85</td>\n",
       "      <td>3.49</td>\n",
       "      <td>0.24</td>\n",
       "      <td>2.18</td>\n",
       "      <td>7.80</td>\n",
       "      <td>0.86</td>\n",
       "      <td>3.45</td>\n",
       "      <td>1480</td>\n",
       "    </tr>\n",
       "    <tr>\n",
       "      <th>4</th>\n",
       "      <td>1</td>\n",
       "      <td>13.24</td>\n",
       "      <td>2.59</td>\n",
       "      <td>2.87</td>\n",
       "      <td>21.0</td>\n",
       "      <td>118</td>\n",
       "      <td>2.80</td>\n",
       "      <td>2.69</td>\n",
       "      <td>0.39</td>\n",
       "      <td>1.82</td>\n",
       "      <td>4.32</td>\n",
       "      <td>1.04</td>\n",
       "      <td>2.93</td>\n",
       "      <td>735</td>\n",
       "    </tr>\n",
       "  </tbody>\n",
       "</table>\n",
       "</div>"
      ],
      "text/plain": [
       "   Class label  Alcohol  Malic acid   Ash  Alcalinity of ash  Magnesium   \n",
       "0            1    14.23        1.71  2.43               15.6        127  \\\n",
       "1            1    13.20        1.78  2.14               11.2        100   \n",
       "2            1    13.16        2.36  2.67               18.6        101   \n",
       "3            1    14.37        1.95  2.50               16.8        113   \n",
       "4            1    13.24        2.59  2.87               21.0        118   \n",
       "\n",
       "   Total phenols  Flavanoids  Nonflavanoids phenols  Proanthocyanins   \n",
       "0           2.80        3.06                   0.28             2.29  \\\n",
       "1           2.65        2.76                   0.26             1.28   \n",
       "2           2.80        3.24                   0.30             2.81   \n",
       "3           3.85        3.49                   0.24             2.18   \n",
       "4           2.80        2.69                   0.39             1.82   \n",
       "\n",
       "   Color intensity   Hue  OD280/OD315 od diluted wines  Proline  \n",
       "0             5.64  1.04                          3.92     1065  \n",
       "1             4.38  1.05                          3.40     1050  \n",
       "2             5.68  1.03                          3.17     1185  \n",
       "3             7.80  0.86                          3.45     1480  \n",
       "4             4.32  1.04                          2.93      735  "
      ]
     },
     "execution_count": 39,
     "metadata": {},
     "output_type": "execute_result"
    }
   ],
   "source": [
    "df_wine.head()"
   ]
  },
  {
   "cell_type": "code",
   "execution_count": 40,
   "metadata": {},
   "outputs": [
    {
     "data": {
      "text/plain": [
       "((178, 13), (178,))"
      ]
     },
     "execution_count": 40,
     "metadata": {},
     "output_type": "execute_result"
    }
   ],
   "source": [
    "from sklearn.model_selection import train_test_split\n",
    "X_wine=df_wine.iloc[:, 1: ].values\n",
    "y_wine=df_wine.iloc[:, 0].values\n",
    "\n",
    "a=X_wine.shape\n",
    "b=y_wine.shape\n",
    "\n",
    "a,b"
   ]
  },
  {
   "cell_type": "code",
   "execution_count": 41,
   "metadata": {},
   "outputs": [],
   "source": [
    "X_wine_train,X_wine_test,y_wine_train,y_wine_test=train_test_split(X_wine,y_wine,test_size=0.3,random_state=0,stratify=y_wine)\n"
   ]
  },
  {
   "cell_type": "code",
   "execution_count": 42,
   "metadata": {},
   "outputs": [
    {
     "data": {
      "text/plain": [
       "'\\nFirst we assigned the NumPy array representation of the feature columns 1-13 to the variable X_wine; We assigned the class\\nlabels from the first column to the variable y. Then, we used the train_test_split function to randomly split X_wine and \\ny_wine into seperate  training and test datasets. By setting test_size=0.3 we assigned 30% of the wine samples to\\nX_wine_test and y_wine_test and the remaining 70 percent to X_wine_train and y_wine_train respectively.Providing the class\\nlabel array y as an argument to stratify ensures that both training and test datasets have the same class proportions as the\\noriginal dataset.\\n'"
      ]
     },
     "execution_count": 42,
     "metadata": {},
     "output_type": "execute_result"
    }
   ],
   "source": [
    "'''\n",
    "First we assigned the NumPy array representation of the feature columns 1-13 to the variable X_wine; We assigned the class\n",
    "labels from the first column to the variable y. Then, we used the train_test_split function to randomly split X_wine and \n",
    "y_wine into seperate  training and test datasets. By setting test_size=0.3 we assigned 30% of the wine samples to\n",
    "X_wine_test and y_wine_test and the remaining 70 percent to X_wine_train and y_wine_train respectively.Providing the class\n",
    "label array y as an argument to stratify ensures that both training and test datasets have the same class proportions as the\n",
    "original dataset.\n",
    "'''\n",
    "\n"
   ]
  },
  {
   "cell_type": "code",
   "execution_count": 43,
   "metadata": {},
   "outputs": [
    {
     "data": {
      "text/plain": [
       "(54, 13)"
      ]
     },
     "execution_count": 43,
     "metadata": {},
     "output_type": "execute_result"
    }
   ],
   "source": [
    "X_wine_test.shape"
   ]
  },
  {
   "cell_type": "code",
   "execution_count": 44,
   "metadata": {},
   "outputs": [],
   "source": [
    "'''Bringing feature onto the same scale'''\n",
    "\n",
    "'''\n",
    "Feature scaling is a crucial step in our preprocessing pipeline that can easily be forgotten. Decision trees and random\n",
    "forests are two of the very few machine learning algorithms where we don't need to worry about feature scaling. Those\n",
    "algorithms are scale invariant. However, the majority of machine learning and optimization algorithms behave much better\n",
    "if features are on the same scale. There are two common approaches to bring different features  onto the same scale:\n",
    "normalization and standardization. Normalization referes to the rescaling of the feature to a range of [0,1], which is a \n",
    "special case of min-max scaling.\n",
    "\n",
    "Although normalization via min-max scaling is a commonly used technique that is useful when we need values in a bounded interval\n",
    "standardization can be more practical for many machine learning algorithms, especially for optimization algorithms such as\n",
    "gradient decent.for this reason many linear models, such as logistic regression and SVM initialize the weights to 0 or small\n",
    "random values close to 0. Using standardization, we center the feature columns at mean 0 with standard deviation 1 so that the\n",
    "feature columns takes the form of a normal distribution , which makes it easier to learn the weights. Furthermore standardization\n",
    "maintains useful information about outliers and make the algorithm less sensitive to them in contrast to min-max scaling, which\n",
    "scales the data to a limited range of values.\n",
    "'''\n",
    "\n",
    "from sklearn.preprocessing import MinMaxScaler\n",
    "mms=MinMaxScaler()\n",
    "X_wine_train_norm=mms.fit_transform(X_wine_train)\n",
    "X_wine_test_norm=mms.fit(X_wine_test)\n",
    "#X_wine_test_norm=mms.fit(X_wine_test)\n"
   ]
  },
  {
   "cell_type": "code",
   "execution_count": 45,
   "metadata": {},
   "outputs": [],
   "source": [
    "from sklearn.preprocessing import StandardScaler\n",
    "stdsc=StandardScaler()\n",
    "X_wine_train_std=stdsc.fit_transform(X_wine_train)\n",
    "X_wine_test_std=stdsc.transform(X_wine_test)"
   ]
  },
  {
   "cell_type": "code",
   "execution_count": 46,
   "metadata": {},
   "outputs": [
    {
     "data": {
      "text/plain": [
       "'If we are dividing a dataset into training and test datasets, we have to keep in mind that we are withholding valuable\\ninformation that the learning algorithm could benefit from. Thus, we dont want to allocate too much information to the test\\nset, the more inaccurate the estimation of the generalization error. Dividing a dataset into training and test sets is all about\\nbalancing this trade-off.'"
      ]
     },
     "execution_count": 46,
     "metadata": {},
     "output_type": "execute_result"
    }
   ],
   "source": [
    "'''If we are dividing a dataset into training and test datasets, we have to keep in mind that we are withholding valuable\n",
    "information that the learning algorithm could benefit from. Thus, we dont want to allocate too much information to the test\n",
    "set, the more inaccurate the estimation of the generalization error. Dividing a dataset into training and test sets is all about\n",
    "balancing this trade-off.'''"
   ]
  },
  {
   "cell_type": "code",
   "execution_count": 47,
   "metadata": {},
   "outputs": [
    {
     "data": {
      "text/plain": [
       "'\\nIf we notice that a model performs much better on a training dataset than on the test dataset, this observation is a strong\\nindicator of overfitting(high variance)\\n\\nCommon solutions to reduce the generalization error are listed as follows:\\n=> Collect more training data.\\n=>Introduce a penalty for complexity via regularization.\\n=>Choose a simpler model with fewer parameters.\\n=> Reduce the dimensionality of the data.\\n\\nCollecting more training data is often not applicable.\\n'"
      ]
     },
     "execution_count": 47,
     "metadata": {},
     "output_type": "execute_result"
    }
   ],
   "source": [
    "'''Selecting meaningful features'''\n",
    "\n",
    "'''\n",
    "If we notice that a model performs much better on a training dataset than on the test dataset, this observation is a strong\n",
    "indicator of overfitting(high variance)\n",
    "\n",
    "Common solutions to reduce the generalization error are listed as follows:\n",
    "=> Collect more training data.\n",
    "=>Introduce a penalty for complexity via regularization.\n",
    "=>Choose a simpler model with fewer parameters.\n",
    "=> Reduce the dimensionality of the data.\n",
    "\n",
    "Collecting more training data is often not applicable.\n",
    "'''"
   ]
  },
  {
   "cell_type": "code",
   "execution_count": 48,
   "metadata": {},
   "outputs": [
    {
     "data": {
      "text/plain": [
       "'\\nL2 is an approach to reduce the complexity of a model by penalizing large individual weights.L1 regularization replaces\\nthe square  of the weights by the sum of the absolute values of the weights. In contrast to L2 regularization usually yield\\n sparse feature vectors; most feature weights will be zero. Sparsity can be useful in practice if we have a high-dimensional\\n dataset with many features that are irrelevant, especially cases where we have more irrelevant dimensions than samples.\\n in this sense, L1 regularization can be understood as a technique for feature selection.\\n\\n A Geometric interpretation of L2 regularization\\n\\n As mentioned L2 regularization adds a penalty term to the cost function that effectively results in less extreme weight\\n values compared to a model trained with an unregularized cost function.\\n'"
      ]
     },
     "execution_count": 48,
     "metadata": {},
     "output_type": "execute_result"
    }
   ],
   "source": [
    "'''L1 and L2 regularization as penalties against model complexity'''\n",
    "\n",
    "'''\n",
    "L2 is an approach to reduce the complexity of a model by penalizing large individual weights.L1 regularization replaces\n",
    "the square  of the weights by the sum of the absolute values of the weights. In contrast to L2 regularization usually yield\n",
    " sparse feature vectors; most feature weights will be zero. Sparsity can be useful in practice if we have a high-dimensional\n",
    " dataset with many features that are irrelevant, especially cases where we have more irrelevant dimensions than samples.\n",
    " in this sense, L1 regularization can be understood as a technique for feature selection.\n",
    "\n",
    " A Geometric interpretation of L2 regularization\n",
    "\n",
    " As mentioned L2 regularization adds a penalty term to the cost function that effectively results in less extreme weight\n",
    " values compared to a model trained with an unregularized cost function.\n",
    "'''"
   ]
  },
  {
   "cell_type": "code",
   "execution_count": 49,
   "metadata": {},
   "outputs": [
    {
     "name": "stdout",
     "output_type": "stream",
     "text": [
      "Training accuracy:  1.0\n"
     ]
    }
   ],
   "source": [
    "'''Sparse solution with L1 regularization'''\n",
    "\n",
    "from sklearn.linear_model import LogisticRegression\n",
    "lr=LogisticRegression(penalty='l1',C=1.0,solver='liblinear')\n",
    "lr.fit(X_wine_train_std,y_wine_train)\n",
    "print('Training accuracy: ', lr.score(X_wine_train_std,y_wine_train))\n"
   ]
  },
  {
   "cell_type": "code",
   "execution_count": 50,
   "metadata": {},
   "outputs": [],
   "source": [
    "#lr.fit(X_wine_test_std,y_wine_test)\n",
    "\n",
    "#print('Test accuracy: ',lr.score(X_wine_test_std,y_wine_test))"
   ]
  },
  {
   "cell_type": "code",
   "execution_count": 51,
   "metadata": {},
   "outputs": [
    {
     "data": {
      "text/plain": [
       "array([[ 1.24613003,  0.1803182 ,  0.74515216, -1.1627703 ,  0.        ,\n",
       "         0.        ,  1.16434545,  0.        ,  0.        ,  0.        ,\n",
       "         0.        ,  0.55331268,  2.5094863 ],\n",
       "       [-1.53983737, -0.38554467, -0.99553912,  0.36355979, -0.05885448,\n",
       "         0.        ,  0.66624315,  0.        ,  0.        , -1.93123176,\n",
       "         1.23846237,  0.        , -2.23208405],\n",
       "       [ 0.13476087,  0.17031086,  0.35757667,  0.        ,  0.        ,\n",
       "         0.        , -2.43313791,  0.        ,  0.        ,  1.56247173,\n",
       "        -0.81708087, -0.49732003,  0.        ]])"
      ]
     },
     "execution_count": 51,
     "metadata": {},
     "output_type": "execute_result"
    }
   ],
   "source": [
    "lr.coef_"
   ]
  },
  {
   "cell_type": "code",
   "execution_count": 52,
   "metadata": {},
   "outputs": [],
   "source": [
    "import numpy as np\n",
    "import matplotlib.pyplot as plt\n"
   ]
  },
  {
   "cell_type": "code",
   "execution_count": 53,
   "metadata": {},
   "outputs": [
    {
     "data": {
      "image/png": "[encoded data removed]",
      "text/plain": [
       "<Figure size 640x480 with 1 Axes>"
      ]
     },
     "metadata": {},
     "output_type": "display_data"
    }
   ],
   "source": [
    "fig=plt.figure()\n",
    "ax=plt.subplot(111)\n",
    "'''colors=['blue','green','red','cyan',\n",
    "        'magenta','yellow','black',\n",
    "        'pink','lightgreen','lightblue',\n",
    "        'gray','indigo','orange']'''\n",
    "colors = ['blue', 'green', 'red', 'cyan', \n",
    "          'magenta', 'yellow', 'black', \n",
    "          'pink', 'lightgreen', 'lightblue', \n",
    "          'gray', 'indigo', 'orange']\n",
    "\n",
    "#weights=np.array([])\n",
    "#params=np.array([])\n",
    "weights,params=[],[]\n",
    "for c in np.arange(-4.,6.):\n",
    "    lr=LogisticRegression(penalty='l1',C=10.**c,random_state=0,solver='liblinear')\n",
    "    lr.fit(X_wine_train_std,y_wine_train)\n",
    "    weights.append(lr.coef_[1])\n",
    "    params.append(10**c)\n",
    "    #weights.append(lr.coef_[1])\n",
    "    #params.append(10**c)\n",
    "weights=np.array(weights)\n",
    "for column, color in zip(range(weights.shape[1]),colors):\n",
    "    plt.plot(params,weights[:,column],label=df_wine.columns[column+1],color=color)\n",
    "plt.axhline(0,color='black',linestyle='--',linewidth=3)\n",
    "plt.xlim([10**(-5),10**5])\n",
    "plt.ylabel('weight coefficient')\n",
    "plt.xlabel('C')\n",
    "plt.xscale('log')\n",
    "plt.legend(loc='upper left')\n",
    "ax.legend(loc='upper center',bbox_to_anchor=(1.38,1.03),ncol=1,fancybox=True)\n",
    "\n",
    "plt.show()"
   ]
  },
  {
   "cell_type": "code",
   "execution_count": 54,
   "metadata": {},
   "outputs": [
    {
     "data": {
      "image/png": "[encoded data removed]",
      "text/plain": [
       "<Figure size 640x480 with 1 Axes>"
      ]
     },
     "metadata": {},
     "output_type": "display_data"
    },
    {
     "data": {
      "text/plain": [
       "<Figure size 640x480 with 0 Axes>"
      ]
     },
     "metadata": {},
     "output_type": "display_data"
    }
   ],
   "source": [
    "fig = plt.figure()\n",
    "ax = plt.subplot(111)\n",
    "    \n",
    "colors = ['blue', 'green', 'red', 'cyan', \n",
    "          'magenta', 'yellow', 'black', \n",
    "          'pink', 'lightgreen', 'lightblue', \n",
    "          'gray', 'indigo', 'orange']\n",
    "\n",
    "weights, params = [], []\n",
    "for c in np.arange(-4., 6.):\n",
    "    lr = LogisticRegression(penalty='l1', C=10.**c, random_state=0,solver='liblinear'\n",
    "                            )\n",
    "    lr.fit(X_wine_train_std, y_wine_train)\n",
    "    weights.append(lr.coef_[1])\n",
    "    params.append(10**c)\n",
    "\n",
    "weights = np.array(weights)\n",
    "\n",
    "for column, color in zip(range(weights.shape[1]), colors):\n",
    "    plt.plot(params, weights[:, column],\n",
    "             label=df_wine.columns[column + 1],\n",
    "             color=color)\n",
    "plt.axhline(0, color='black', linestyle='--', linewidth=3)\n",
    "plt.xlim([10**(-5), 10**5])\n",
    "plt.ylabel('weight coefficient')\n",
    "plt.xlabel('C')\n",
    "plt.xscale('log')\n",
    "plt.legend(loc='upper left')\n",
    "ax.legend(loc='upper center', \n",
    "          bbox_to_anchor=(1.38, 1.03),\n",
    "          ncol=1, fancybox=True)\n",
    "#plt.savefig('images/04_07.png', dpi=300, \n",
    "#            bbox_inches='tight', pad_inches=0.2)\n",
    "plt.show()\n",
    "plt.savefig(\"features-of-the-wine-dataset\")"
   ]
  },
  {
   "cell_type": "code",
   "execution_count": 55,
   "metadata": {},
   "outputs": [
    {
     "data": {
      "text/plain": [
       "\"\\nAn alternative way to reduce the complexity of the model and avoid overfitting is dimensionality reduction via feature selection.\\nwhich is especially useful for unregularized models. There are two main categories of dimensionality reduction techniques:\\nfeature selection and feature extraction. Via feature selection, we select a subset of the original features, whereas in feature\\nextraction, we derive information from the feature set to construct a new subspace.\\n\\nSequential feature selection algorithms are a family of greedy search algorithms that are used to reduce an initial \\nd-dimensional feature space to a k-dimensional feature subspace where k<d.The motivation behind feature selection algorithm\\nis to automatically select a subset of features that are most relevant to the problem, to improve computational effeciency or\\nreduce the generalization error of the model by removing irrelevant features or noise, which can be useful for algorithms\\nthat don't support regularization.\\n\\nA classical sequential feature selection aglorithm is Sequential Backward Selection (SBS), which aims to reduce the dimensionality\\nof the initial feature subspace with a minimum decay in performance of the classifier to improve upon computational efficiency.\\nIn certain cases SBS can even improve the predictive power of the model if a model suffers from overfitting.\\n\\n\\nGreedy algorithms make locally optimal choices at each stage of a combinatorial search problem and generally yield a suboptimal\\nsolution to the problem, in contrast to exhaustive search algorithms, which evaluate all possible combinations and guaranteed to find\\nthe optimal solution. However in practice, an exhaustive search is often comoutationally not feasible, whereas greedy algorithms\\nallow for a less complex computationally more efficient solution.\\n\\nThe idea begind the SBS is quite simple: SBS sequentially removes features from the full feature subset until the new feature\\nsubspace contains the desired number of features. In order to determine which feature is to be removed at each stage, we need\\nto define the criterion function J that we want to minimize. The criterion calculated by the criterion function can simply be\\nthe difference in performance of the classifier before and after the removal of a particular feature that maximizes this\\ncriterion; or in more intuitive terms, at ecah stage we eliminate the feature that causes the least performance loss after \\nremoval.\\n\""
      ]
     },
     "execution_count": 55,
     "metadata": {},
     "output_type": "execute_result"
    }
   ],
   "source": [
    "'''Sequnetial feature selection algorithm'''\n",
    "\n",
    "'''\n",
    "An alternative way to reduce the complexity of the model and avoid overfitting is dimensionality reduction via feature selection.\n",
    "which is especially useful for unregularized models. There are two main categories of dimensionality reduction techniques:\n",
    "feature selection and feature extraction. Via feature selection, we select a subset of the original features, whereas in feature\n",
    "extraction, we derive information from the feature set to construct a new subspace.\n",
    "\n",
    "Sequential feature selection algorithms are a family of greedy search algorithms that are used to reduce an initial \n",
    "d-dimensional feature space to a k-dimensional feature subspace where k<d.The motivation behind feature selection algorithm\n",
    "is to automatically select a subset of features that are most relevant to the problem, to improve computational effeciency or\n",
    "reduce the generalization error of the model by removing irrelevant features or noise, which can be useful for algorithms\n",
    "that don't support regularization.\n",
    "\n",
    "A classical sequential feature selection aglorithm is Sequential Backward Selection (SBS), which aims to reduce the dimensionality\n",
    "of the initial feature subspace with a minimum decay in performance of the classifier to improve upon computational efficiency.\n",
    "In certain cases SBS can even improve the predictive power of the model if a model suffers from overfitting.\n",
    "\n",
    "\n",
    "Greedy algorithms make locally optimal choices at each stage of a combinatorial search problem and generally yield a suboptimal\n",
    "solution to the problem, in contrast to exhaustive search algorithms, which evaluate all possible combinations and guaranteed to find\n",
    "the optimal solution. However in practice, an exhaustive search is often comoutationally not feasible, whereas greedy algorithms\n",
    "allow for a less complex computationally more efficient solution.\n",
    "\n",
    "The idea begind the SBS is quite simple: SBS sequentially removes features from the full feature subset until the new feature\n",
    "subspace contains the desired number of features. In order to determine which feature is to be removed at each stage, we need\n",
    "to define the criterion function J that we want to minimize. The criterion calculated by the criterion function can simply be\n",
    "the difference in performance of the classifier before and after the removal of a particular feature that maximizes this\n",
    "criterion; or in more intuitive terms, at ecah stage we eliminate the feature that causes the least performance loss after \n",
    "removal.\n",
    "'''\n",
    "\n"
   ]
  },
  {
   "cell_type": "code",
   "execution_count": 56,
   "metadata": {},
   "outputs": [],
   "source": [
    "from sklearn.base import clone\n",
    "from itertools import combinations\n",
    "import numpy as np\n",
    "\n",
    "from sklearn.metrics import accuracy_score\n",
    "from sklearn.model_selection import train_test_split\n",
    "\n",
    "class SBS():\n",
    "    def __init__(self,estimator,k_features,scoring=accuracy_score,test_size=0.25,random_state=1):\n",
    "        self.scoring=scoring\n",
    "        self.estimator=clone(estimator)\n",
    "        self.k_features=k_features\n",
    "        self.test_size=test_size\n",
    "        self.random_state=random_state\n",
    "\n",
    "    def fit(self,X,y):\n",
    "        X_train,X_test,y_train,y_test=train_test_split(X,y,test_size=self.test_size,random_state=self.random_state)\n",
    "\n",
    "        dim=X_train.shape[1]\n",
    "        self.indices_=tuple(range(dim))\n",
    "        self.subsets_=[self.indices_]\n",
    "        score=self._calc_score(X_train,y_train,X_test,y_test,self.indices_)\n",
    "        self.scores_=[score]\n",
    "\n",
    "        while dim > self.k_features:\n",
    "            scores=[]\n",
    "            subnets=[]\n",
    "\n",
    "            for p in combinations(self.indices_,r=dim-1):\n",
    "                score=self._calc_score(X_train,y_train,X_test,y_test,p)\n",
    "                scores.append(score)\n",
    "                subnets.append(p)\n",
    "\n",
    "            best=np.argmax(scores)\n",
    "            self.indices_=subnets[best]\n",
    "            self.subsets_.append(self.indices_)\n",
    "            dim-=1\n",
    "            self.scores_.append(scores[best])\n",
    "        self.k_score_=self.scores_[-1]\n",
    "        return self\n",
    "\n",
    "    def transform(self,X):\n",
    "        return X[:,self.indices_]\n",
    "\n",
    "    def _calc_score(self,X_train,y_train,X_test,y_test,indices):\n",
    "        self.estimator.fit(X_train[:,indices],y_train)\n",
    "        y_pred=self.estimator.predict(X_test[:,indices])\n",
    "        score=self.scoring(y_test,y_pred)\n",
    "        return score    "
   ]
  },
  {
   "cell_type": "code",
   "execution_count": 57,
   "metadata": {},
   "outputs": [
    {
     "data": {
      "text/plain": [
       "'\\nIn the preceeding implementation, we defined the k_features paramete to specify the desired number of features we want to return. By default\\nwe use the accuracy_score from scikit-learn to evaluate the performance of the model(an estimator for classification) on the feature subsets. Inside\\nthe while loop of the fit method, the feature subsets created by the itertools.combination function are evaluated and reduced until the feature subset\\nhas the desired dimensionality. In each iteration, the accuracy of the score best subset is collected in a list, self.scores_, based on the internally created\\ntest dataset X_test. We will use those scores later to evaluate the results. The column indices of the final feature subset are assigned to self.indices_, which\\nwe can use via the transform method to return a new data array with the selected feature columns.Note that instead of calculating the criterion explicitly inside\\nthe fit method, we siimply remove the featur that is not contained in the best performing feature subset. \\n\\nAlthough our SBS implementation already splits the dataset into a test and training dataset inside the fit function, we still fed the training dataset X_train to\\nthe algorithm. The SBS fit method will then create new training subsets for testing(validation) and training, which is why this test is also called the\\nvalidation dataset. This approach is necessary to prevent our original test set from becoing part of the training data.\\n\\n\\nWhile we did not increase the performance of the KNN model by reducing the number of features, we shrank the size if the dataset, which can be useful in real\\nworld applications that may involve expensive data collection steps. Also by substantially reducing the number of features, we obtain simpler models, which\\nare easier to interpret.\\n\\n\\n\\n\\n'"
      ]
     },
     "execution_count": 57,
     "metadata": {},
     "output_type": "execute_result"
    }
   ],
   "source": [
    "'''\n",
    "In the preceeding implementation, we defined the k_features paramete to specify the desired number of features we want to return. By default\n",
    "we use the accuracy_score from scikit-learn to evaluate the performance of the model(an estimator for classification) on the feature subsets. Inside\n",
    "the while loop of the fit method, the feature subsets created by the itertools.combination function are evaluated and reduced until the feature subset\n",
    "has the desired dimensionality. In each iteration, the accuracy of the score best subset is collected in a list, self.scores_, based on the internally created\n",
    "test dataset X_test. We will use those scores later to evaluate the results. The column indices of the final feature subset are assigned to self.indices_, which\n",
    "we can use via the transform method to return a new data array with the selected feature columns.Note that instead of calculating the criterion explicitly inside\n",
    "the fit method, we siimply remove the featur that is not contained in the best performing feature subset. \n",
    "\n",
    "Although our SBS implementation already splits the dataset into a test and training dataset inside the fit function, we still fed the training dataset X_train to\n",
    "the algorithm. The SBS fit method will then create new training subsets for testing(validation) and training, which is why this test is also called the\n",
    "validation dataset. This approach is necessary to prevent our original test set from becoing part of the training data.\n",
    "\n",
    "\n",
    "While we did not increase the performance of the KNN model by reducing the number of features, we shrank the size if the dataset, which can be useful in real\n",
    "world applications that may involve expensive data collection steps. Also by substantially reducing the number of features, we obtain simpler models, which\n",
    "are easier to interpret.\n",
    "\n",
    "\n",
    "\n",
    "\n",
    "'''"
   ]
  },
  {
   "cell_type": "code",
   "execution_count": 58,
   "metadata": {},
   "outputs": [
    {
     "data": {
      "text/plain": [
       "<__main__.SBS at 0x271481efa30>"
      ]
     },
     "execution_count": 58,
     "metadata": {},
     "output_type": "execute_result"
    }
   ],
   "source": [
    "import matplotlib.pyplot as plt\n",
    "from sklearn.neighbors import KNeighborsClassifier\n",
    "#from sbs import SBS\n",
    "\n",
    "\n",
    "knn=KNeighborsClassifier(n_neighbors=5)\n",
    "sbs=SBS(knn,k_features=1)\n",
    "sbs.fit(X_wine_train_std,y_wine_train)"
   ]
  },
  {
   "cell_type": "code",
   "execution_count": 59,
   "metadata": {},
   "outputs": [
    {
     "data": {
      "image/png": "[encoded data removed]",
      "text/plain": [
       "<Figure size 640x480 with 1 Axes>"
      ]
     },
     "metadata": {},
     "output_type": "display_data"
    }
   ],
   "source": [
    "k_feat=[len(k) for k in sbs.subsets_]\n",
    "\n",
    "plt.plot(k_feat,sbs.scores_,marker='o')\n",
    "plt.ylim([0.7,1.02])\n",
    "plt.ylabel('Accuracy')\n",
    "plt.xlabel('Number of features')\n",
    "plt.grid()\n",
    "plt.show()"
   ]
  },
  {
   "cell_type": "code",
   "execution_count": 60,
   "metadata": {},
   "outputs": [
    {
     "name": "stdout",
     "output_type": "stream",
     "text": [
      "Index(['Alcohol', 'Malic acid', 'OD280/OD315 od diluted wines'], dtype='object')\n"
     ]
    }
   ],
   "source": [
    "k3=list(sbs.subsets_[10])\n",
    "print(df_wine.columns[1:][k3])"
   ]
  },
  {
   "cell_type": "code",
   "execution_count": 61,
   "metadata": {},
   "outputs": [
    {
     "name": "stdout",
     "output_type": "stream",
     "text": [
      "Training accuracy:  0.967741935483871\n",
      "Test accuracy:  0.9629629629629629\n"
     ]
    }
   ],
   "source": [
    "knn.fit(X_wine_train_std,y_wine_train)\n",
    "print(\"Training accuracy: \",knn.score(X_wine_train_std,y_wine_train))\n",
    "print(\"Test accuracy: \",knn.score(X_wine_test_std,y_wine_test))"
   ]
  },
  {
   "cell_type": "code",
   "execution_count": 62,
   "metadata": {},
   "outputs": [
    {
     "name": "stdout",
     "output_type": "stream",
     "text": [
      "Training accuracy:  0.9516129032258065\n",
      "Testing accuracy:  0.9259259259259259\n"
     ]
    }
   ],
   "source": [
    "knn.fit(X_wine_train_std[:,k3],y_wine_train)\n",
    "print(\"Training accuracy: \",knn.score(X_wine_train_std[:,k3],y_wine_train))\n",
    "print(\"Testing accuracy: \",knn.score(X_wine_test_std[:,k3],y_wine_test))\n"
   ]
  },
  {
   "cell_type": "code",
   "execution_count": 63,
   "metadata": {},
   "outputs": [
    {
     "data": {
      "text/plain": [
       "'ADD notes above before proceeding'"
      ]
     },
     "execution_count": 63,
     "metadata": {},
     "output_type": "execute_result"
    }
   ],
   "source": [
    "'''ADD notes above before proceeding'''\n",
    "\n"
   ]
  },
  {
   "cell_type": "code",
   "execution_count": 64,
   "metadata": {},
   "outputs": [
    {
     "data": {
      "text/plain": [
       "'\\nUsing a random forest, we can measure the feature importance as the averaged impurity decrease computed from all decision trees in the forest, without making any\\nassumptions about whether our data is linearly separable or not. Conviniently, the random forest implementation in scikit-learn already collects the feature\\nimportance values for us so that we can access them via the feature_importance_ attribute after fitting a RandomForestClassifier\\n'"
      ]
     },
     "execution_count": 64,
     "metadata": {},
     "output_type": "execute_result"
    }
   ],
   "source": [
    "'''Assessing feature importance with random forests'''\n",
    "\n",
    "\n",
    "'''\n",
    "Using a random forest, we can measure the feature importance as the averaged impurity decrease computed from all decision trees in the forest, without making any\n",
    "assumptions about whether our data is linearly separable or not. Conviniently, the random forest implementation in scikit-learn already collects the feature\n",
    "importance values for us so that we can access them via the feature_importance_ attribute after fitting a RandomForestClassifier\n",
    "'''"
   ]
  },
  {
   "cell_type": "code",
   "execution_count": 68,
   "metadata": {},
   "outputs": [
    {
     "name": "stdout",
     "output_type": "stream",
     "text": [
      " 1) Proline                        0.185453\n",
      " 2) Flavanoids                     0.174751\n",
      " 3) Color intensity                0.143920\n",
      " 4) OD280/OD315 od diluted wines   0.136162\n",
      " 5) Alcohol                        0.118529\n",
      " 6) Hue                            0.058739\n",
      " 7) Total phenols                  0.050872\n",
      " 8) Magnesium                      0.031357\n",
      " 9) Malic acid                     0.025648\n",
      "10) Proanthocyanins                0.025570\n",
      "11) Alcalinity of ash              0.022366\n",
      "12) Nonflavanoids phenols          0.013354\n",
      "13) Ash                            0.013279\n"
     ]
    },
    {
     "data": {
      "image/png": "[encoded data removed]",
      "text/plain": [
       "<Figure size 640x480 with 1 Axes>"
      ]
     },
     "metadata": {},
     "output_type": "display_data"
    }
   ],
   "source": [
    "from sklearn.ensemble import RandomForestClassifier\n",
    "feat_labels=df_wine.columns[1:]\n",
    "forest=RandomForestClassifier(n_estimators=500,random_state=1)\n",
    "forest.fit(X_wine_train,y_wine_train)\n",
    "importances=forest.feature_importances_\n",
    "\n",
    "indices=np.argsort(importances)[::-1]\n",
    "\n",
    "for f in range (X_wine_train.shape[1]):\n",
    "    #\n",
    "     print(\"%2d) %-*s %f\" % (f +1,30,feat_labels[indices[f]],importances[indices[f]]))\n",
    "     #print(\"%2d) %-*s %f\" % (f + 1, 30, \n",
    "                            #feat_labels[indices[f]], \n",
    "                            #importances[indices[f]]))\n",
    "\n",
    "plt.title('Feature Importance')\n",
    "plt.bar(range(X_wine_train.shape[1]),\n",
    "        importances[indices],align='center')\n",
    "\n",
    "plt.xticks(range(X_wine_train.shape[1]),feat_labels,rotation=90)\n",
    "\n",
    "plt.xlim([-1,X_wine_train.shape[1]])\n",
    "plt.tight_layout()\n",
    "plt.show()"
   ]
  },
  {
   "cell_type": "code",
   "execution_count": 69,
   "metadata": {},
   "outputs": [
    {
     "data": {
      "text/plain": [
       "'\\nWe can conclude that the proline and flavonoid levels, the color intensity, the OD280/OD315 diffraction, and the alcohol concentration of wine are the most\\ndiscriminative features in the dataset based on the average impurity decrease in the 500 decision trees: Interestingly,two of the top ranked features in the\\nplot are also in the three-feature subset selection from the SBS algorithm. However as far as intepretability is concerned, the random forest technique comes\\nwith an important gotcha that is worth mentioning. If two or more features are highly correlated, one feature may be ranked very highly while the information\\nof the other features may not be fully captured. On the other hand , we dont need to be concerned about this problem if we are merely interested in the predicitve\\nperformance of a model rather than the interpretation of feature importance values.\\n\\nIt is also worth mentioning that scikit learn also implements threshold after model fitting, which is useful if we want to use the RandomForestClassifier\\nas a feature selector and intermediate step in a scikit-line pipeline object\\n'"
      ]
     },
     "execution_count": 69,
     "metadata": {},
     "output_type": "execute_result"
    }
   ],
   "source": [
    "'''\n",
    "We can conclude that the proline and flavonoid levels, the color intensity, the OD280/OD315 diffraction, and the alcohol concentration of wine are the most\n",
    "discriminative features in the dataset based on the average impurity decrease in the 500 decision trees: Interestingly,two of the top ranked features in the\n",
    "plot are also in the three-feature subset selection from the SBS algorithm. However as far as intepretability is concerned, the random forest technique comes\n",
    "with an important gotcha that is worth mentioning. If two or more features are highly correlated, one feature may be ranked very highly while the information\n",
    "of the other features may not be fully captured. On the other hand , we dont need to be concerned about this problem if we are merely interested in the predicitve\n",
    "performance of a model rather than the interpretation of feature importance values.\n",
    "\n",
    "It is also worth mentioning that scikit learn also implements threshold after model fitting, which is useful if we want to use the RandomForestClassifier\n",
    "as a feature selector and intermediate step in a scikit-line pipeline object\n",
    "'''"
   ]
  },
  {
   "cell_type": "code",
   "execution_count": 70,
   "metadata": {},
   "outputs": [
    {
     "name": "stdout",
     "output_type": "stream",
     "text": [
      "Number of samples that meet this criterion:  124\n"
     ]
    }
   ],
   "source": [
    "from sklearn.feature_selection import SelectFromModel\n",
    "sfm=SelectFromModel(forest,threshold=0.1,prefit=True)\n",
    "X_selected=sfm.transform(X_wine_train)\n",
    "print('Number of samples that meet this criterion: ',X_selected.shape[0])\n"
   ]
  },
  {
   "cell_type": "code",
   "execution_count": 71,
   "metadata": {},
   "outputs": [
    {
     "name": "stdout",
     "output_type": "stream",
     "text": [
      " 1) Proline                        0.185453\n",
      " 2) Flavanoids                     0.174751\n",
      " 3) Color intensity                0.143920\n",
      " 4) OD280/OD315 od diluted wines   0.136162\n",
      " 5) Alcohol                        0.118529\n"
     ]
    }
   ],
   "source": [
    "for f in range (X_selected.shape[1]): \n",
    "    print(\"%2d) %-*s %f\" % (f + 1, 30, \n",
    "                            feat_labels[indices[f]], \n",
    "                            importances[indices[f]]))\n"
   ]
  },
  {
   "cell_type": "code",
   "execution_count": null,
   "metadata": {},
   "outputs": [],
   "source": []
  }
 ],
 "metadata": {
  "kernelspec": {
   "display_name": "Python 3 (ipykernel)",
   "language": "python",
   "name": "python3"
  },
  "language_info": {
   "codemirror_mode": {
    "name": "ipython",
    "version": 3
   },
   "file_extension": ".py",
   "mimetype": "text/x-python",
   "name": "python",
   "nbconvert_exporter": "python",
   "pygments_lexer": "ipython3",
   "version": "3.8.8"
  },
  "vscode": {
   "interpreter": {
    "hash": "708d7932edc05b88d6c0123d49b2d1b11da2fefd23252fdec809a668bebd1101"
   }
  }
 },
 "nbformat": 4,
 "nbformat_minor": 2
}
